{
 "cells": [
  {
   "cell_type": "code",
   "execution_count": null,
   "id": "23a3318e-6633-4b69-b0fe-5c8178e8f1cb",
   "metadata": {},
   "outputs": [],
   "source": []
  }
 ],
 "metadata": {
  "kernelspec": {
   "display_name": "Python 3 (ipykernel)",
   "language": "python",
   "name": "python3"
  },
  "language_info": {
   "name": ""
  }
 },
 "nbformat": 4,
 "nbformat_minor": 5
}
